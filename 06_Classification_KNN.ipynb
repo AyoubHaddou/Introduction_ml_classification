{
 "cells": [
  {
   "cell_type": "markdown",
   "metadata": {},
   "source": [
    "# Consignes\n",
    "\n",
    "- 1) Construisez un modèle KNN au sein d'un pipe line en incluant une normalisation et un grid search.\n",
    "- 2) Découvrez la différence entre le Voting et le Stacking en utilisant les méthodes liées dans scikit learn."
   ]
  }
 ],
 "metadata": {
  "language_info": {
   "name": "python"
  },
  "orig_nbformat": 4
 },
 "nbformat": 4,
 "nbformat_minor": 2
}
