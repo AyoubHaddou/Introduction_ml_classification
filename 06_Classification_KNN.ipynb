{
 "cells": [
  {
   "cell_type": "markdown",
   "metadata": {},
   "source": [
    "# Consignes\n",
    "\n",
    "- Construisez un modèle KNN au sein d'un pipe line en incluant la normalisation et le grid search.\n",
    "- Utilisez la bibliothèque Pycaret pour lancer une série de modèles et les analyser. Comparer les résultats obtenus avec vos autres résultats. "
   ]
  }
 ],
 "metadata": {
  "language_info": {
   "name": "python"
  },
  "orig_nbformat": 4
 },
 "nbformat": 4,
 "nbformat_minor": 2
}
