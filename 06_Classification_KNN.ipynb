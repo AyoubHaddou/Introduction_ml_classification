{
 "cells": [
  {
   "cell_type": "markdown",
   "metadata": {},
   "source": [
    "# Consignes\n",
    "\n",
    "- 1) Construisez un modèle KNN au sein d'un pipe line en incluant une normalisation et un grid search.\n",
    "- 2) Préparez le rendu dans simplononline (dead line mercredi soir): un extrait de votre mlflow et la description de votre meilleur modèle:\n",
    "    - quelles features\n",
    "    - quelles transformations (encode, NA, scale, poly)\n",
    "    - quel modèle\n",
    "    - quels hyperparamètres?\n",
    "    - quels résultats pour les métriques\n",
    "    - bonus: quelle est l'importance de chaque feature d'après SHAP\n",
    "- 3) Utilisez la bibliothèque Pycaret pour lancer une série de modèles et les analyser. Comparer les résultats obtenus avec vos autres résultats. \n",
    "- 4) Découvrez la différence entre le Voting et le Stacking en utilisant les méthodes liées dans scikit learn."
   ]
  }
 ],
 "metadata": {
  "language_info": {
   "name": "python"
  },
  "orig_nbformat": 4
 },
 "nbformat": 4,
 "nbformat_minor": 2
}
