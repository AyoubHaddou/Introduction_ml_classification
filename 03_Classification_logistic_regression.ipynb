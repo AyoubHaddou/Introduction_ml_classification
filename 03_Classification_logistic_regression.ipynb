{
 "cells": [
  {
   "cell_type": "markdown",
   "metadata": {},
   "source": [
    "# Mise en place de l'environnement"
   ]
  },
  {
   "cell_type": "code",
   "execution_count": 1,
   "metadata": {},
   "outputs": [],
   "source": [
    "# On importe les packages nécesaires au machine learning\n",
    "import pandas as pd\n",
    "from sklearn.model_selection import train_test_split\n",
    "from sklearn.linear_model import LogisticRegression\n",
    "from sklearn.metrics import accuracy_score, f1_score, recall_score,precision_score, roc_auc_score  "
   ]
  },
  {
   "cell_type": "code",
   "execution_count": 8,
   "metadata": {},
   "outputs": [
    {
     "ename": "MlflowException",
     "evalue": "Experiment 'classification_tutorial' already exists.",
     "output_type": "error",
     "traceback": [
      "\u001b[0;31m---------------------------------------------------------------------------\u001b[0m",
      "\u001b[0;31mMlflowException\u001b[0m                           Traceback (most recent call last)",
      "\u001b[1;32m/Users/charles/Documents/pythonProject/Introduction_ml_classification/03_Classification_logistic_regression.ipynb Cell 3'\u001b[0m in \u001b[0;36m<module>\u001b[0;34m\u001b[0m\n\u001b[1;32m      <a href='vscode-notebook-cell:/Users/charles/Documents/pythonProject/Introduction_ml_classification/03_Classification_logistic_regression.ipynb#ch0000002?line=3'>4</a>\u001b[0m \u001b[39mfrom\u001b[39;00m \u001b[39murllib\u001b[39;00m\u001b[39m.\u001b[39;00m\u001b[39mparse\u001b[39;00m \u001b[39mimport\u001b[39;00m urlparse\n\u001b[1;32m      <a href='vscode-notebook-cell:/Users/charles/Documents/pythonProject/Introduction_ml_classification/03_Classification_logistic_regression.ipynb#ch0000002?line=5'>6</a>\u001b[0m \u001b[39m# On crée une nouvelle expérimentation qui permet de rassembler tous les entrainements pour un meme projet.\u001b[39;00m\n\u001b[0;32m----> <a href='vscode-notebook-cell:/Users/charles/Documents/pythonProject/Introduction_ml_classification/03_Classification_logistic_regression.ipynb#ch0000002?line=6'>7</a>\u001b[0m experiment_id \u001b[39m=\u001b[39m mlflow\u001b[39m.\u001b[39;49mcreate_experiment(\u001b[39m\"\u001b[39;49m\u001b[39mclassification_tutorial\u001b[39;49m\u001b[39m\"\u001b[39;49m)\n",
      "File \u001b[0;32m~/Documents/pythonProject/Introduction_ml_classification/env/lib/python3.9/site-packages/mlflow/tracking/fluent.py:936\u001b[0m, in \u001b[0;36mcreate_experiment\u001b[0;34m(name, artifact_location, tags)\u001b[0m\n\u001b[1;32m    <a href='file:///~/Documents/pythonProject/Introduction_ml_classification/env/lib/python3.9/site-packages/mlflow/tracking/fluent.py?line=897'>898</a>\u001b[0m \u001b[39mdef\u001b[39;00m \u001b[39mcreate_experiment\u001b[39m(\n\u001b[1;32m    <a href='file:///~/Documents/pythonProject/Introduction_ml_classification/env/lib/python3.9/site-packages/mlflow/tracking/fluent.py?line=898'>899</a>\u001b[0m     name: \u001b[39mstr\u001b[39m,\n\u001b[1;32m    <a href='file:///~/Documents/pythonProject/Introduction_ml_classification/env/lib/python3.9/site-packages/mlflow/tracking/fluent.py?line=899'>900</a>\u001b[0m     artifact_location: Optional[\u001b[39mstr\u001b[39m] \u001b[39m=\u001b[39m \u001b[39mNone\u001b[39;00m,\n\u001b[1;32m    <a href='file:///~/Documents/pythonProject/Introduction_ml_classification/env/lib/python3.9/site-packages/mlflow/tracking/fluent.py?line=900'>901</a>\u001b[0m     tags: Optional[Dict[\u001b[39mstr\u001b[39m, Any]] \u001b[39m=\u001b[39m \u001b[39mNone\u001b[39;00m,\n\u001b[1;32m    <a href='file:///~/Documents/pythonProject/Introduction_ml_classification/env/lib/python3.9/site-packages/mlflow/tracking/fluent.py?line=901'>902</a>\u001b[0m ) \u001b[39m-\u001b[39m\u001b[39m>\u001b[39m \u001b[39mstr\u001b[39m:\n\u001b[1;32m    <a href='file:///~/Documents/pythonProject/Introduction_ml_classification/env/lib/python3.9/site-packages/mlflow/tracking/fluent.py?line=902'>903</a>\u001b[0m     \u001b[39m\"\"\"\u001b[39;00m\n\u001b[1;32m    <a href='file:///~/Documents/pythonProject/Introduction_ml_classification/env/lib/python3.9/site-packages/mlflow/tracking/fluent.py?line=903'>904</a>\u001b[0m \u001b[39m    Create an experiment.\u001b[39;00m\n\u001b[1;32m    <a href='file:///~/Documents/pythonProject/Introduction_ml_classification/env/lib/python3.9/site-packages/mlflow/tracking/fluent.py?line=904'>905</a>\u001b[0m \n\u001b[0;32m   (...)\u001b[0m\n\u001b[1;32m    <a href='file:///~/Documents/pythonProject/Introduction_ml_classification/env/lib/python3.9/site-packages/mlflow/tracking/fluent.py?line=933'>934</a>\u001b[0m \u001b[39m        Lifecycle_stage: active\u001b[39;00m\n\u001b[1;32m    <a href='file:///~/Documents/pythonProject/Introduction_ml_classification/env/lib/python3.9/site-packages/mlflow/tracking/fluent.py?line=934'>935</a>\u001b[0m \u001b[39m    \"\"\"\u001b[39;00m\n\u001b[0;32m--> <a href='file:///~/Documents/pythonProject/Introduction_ml_classification/env/lib/python3.9/site-packages/mlflow/tracking/fluent.py?line=935'>936</a>\u001b[0m     \u001b[39mreturn\u001b[39;00m MlflowClient()\u001b[39m.\u001b[39;49mcreate_experiment(name, artifact_location, tags)\n",
      "File \u001b[0;32m~/Documents/pythonProject/Introduction_ml_classification/env/lib/python3.9/site-packages/mlflow/tracking/client.py:507\u001b[0m, in \u001b[0;36mMlflowClient.create_experiment\u001b[0;34m(self, name, artifact_location, tags)\u001b[0m\n\u001b[1;32m    <a href='file:///~/Documents/pythonProject/Introduction_ml_classification/env/lib/python3.9/site-packages/mlflow/tracking/client.py?line=463'>464</a>\u001b[0m \u001b[39mdef\u001b[39;00m \u001b[39mcreate_experiment\u001b[39m(\n\u001b[1;32m    <a href='file:///~/Documents/pythonProject/Introduction_ml_classification/env/lib/python3.9/site-packages/mlflow/tracking/client.py?line=464'>465</a>\u001b[0m     \u001b[39mself\u001b[39m,\n\u001b[1;32m    <a href='file:///~/Documents/pythonProject/Introduction_ml_classification/env/lib/python3.9/site-packages/mlflow/tracking/client.py?line=465'>466</a>\u001b[0m     name: \u001b[39mstr\u001b[39m,\n\u001b[1;32m    <a href='file:///~/Documents/pythonProject/Introduction_ml_classification/env/lib/python3.9/site-packages/mlflow/tracking/client.py?line=466'>467</a>\u001b[0m     artifact_location: Optional[\u001b[39mstr\u001b[39m] \u001b[39m=\u001b[39m \u001b[39mNone\u001b[39;00m,\n\u001b[1;32m    <a href='file:///~/Documents/pythonProject/Introduction_ml_classification/env/lib/python3.9/site-packages/mlflow/tracking/client.py?line=467'>468</a>\u001b[0m     tags: Optional[Dict[\u001b[39mstr\u001b[39m, Any]] \u001b[39m=\u001b[39m \u001b[39mNone\u001b[39;00m,\n\u001b[1;32m    <a href='file:///~/Documents/pythonProject/Introduction_ml_classification/env/lib/python3.9/site-packages/mlflow/tracking/client.py?line=468'>469</a>\u001b[0m ) \u001b[39m-\u001b[39m\u001b[39m>\u001b[39m \u001b[39mstr\u001b[39m:\n\u001b[1;32m    <a href='file:///~/Documents/pythonProject/Introduction_ml_classification/env/lib/python3.9/site-packages/mlflow/tracking/client.py?line=469'>470</a>\u001b[0m     \u001b[39m\"\"\"Create an experiment.\u001b[39;00m\n\u001b[1;32m    <a href='file:///~/Documents/pythonProject/Introduction_ml_classification/env/lib/python3.9/site-packages/mlflow/tracking/client.py?line=470'>471</a>\u001b[0m \n\u001b[1;32m    <a href='file:///~/Documents/pythonProject/Introduction_ml_classification/env/lib/python3.9/site-packages/mlflow/tracking/client.py?line=471'>472</a>\u001b[0m \u001b[39m    :param name: The experiment name. Must be unique.\u001b[39;00m\n\u001b[0;32m   (...)\u001b[0m\n\u001b[1;32m    <a href='file:///~/Documents/pythonProject/Introduction_ml_classification/env/lib/python3.9/site-packages/mlflow/tracking/client.py?line=504'>505</a>\u001b[0m \u001b[39m        Lifecycle_stage: active\u001b[39;00m\n\u001b[1;32m    <a href='file:///~/Documents/pythonProject/Introduction_ml_classification/env/lib/python3.9/site-packages/mlflow/tracking/client.py?line=505'>506</a>\u001b[0m \u001b[39m    \"\"\"\u001b[39;00m\n\u001b[0;32m--> <a href='file:///~/Documents/pythonProject/Introduction_ml_classification/env/lib/python3.9/site-packages/mlflow/tracking/client.py?line=506'>507</a>\u001b[0m     \u001b[39mreturn\u001b[39;00m \u001b[39mself\u001b[39;49m\u001b[39m.\u001b[39;49m_tracking_client\u001b[39m.\u001b[39;49mcreate_experiment(name, artifact_location, tags)\n",
      "File \u001b[0;32m~/Documents/pythonProject/Introduction_ml_classification/env/lib/python3.9/site-packages/mlflow/tracking/_tracking_service/client.py:182\u001b[0m, in \u001b[0;36mTrackingServiceClient.create_experiment\u001b[0;34m(self, name, artifact_location, tags)\u001b[0m\n\u001b[1;32m    <a href='file:///~/Documents/pythonProject/Introduction_ml_classification/env/lib/python3.9/site-packages/mlflow/tracking/_tracking_service/client.py?line=178'>179</a>\u001b[0m _validate_experiment_name(name)\n\u001b[1;32m    <a href='file:///~/Documents/pythonProject/Introduction_ml_classification/env/lib/python3.9/site-packages/mlflow/tracking/_tracking_service/client.py?line=179'>180</a>\u001b[0m _validate_experiment_artifact_location(artifact_location)\n\u001b[0;32m--> <a href='file:///~/Documents/pythonProject/Introduction_ml_classification/env/lib/python3.9/site-packages/mlflow/tracking/_tracking_service/client.py?line=181'>182</a>\u001b[0m \u001b[39mreturn\u001b[39;00m \u001b[39mself\u001b[39;49m\u001b[39m.\u001b[39;49mstore\u001b[39m.\u001b[39;49mcreate_experiment(\n\u001b[1;32m    <a href='file:///~/Documents/pythonProject/Introduction_ml_classification/env/lib/python3.9/site-packages/mlflow/tracking/_tracking_service/client.py?line=182'>183</a>\u001b[0m     name\u001b[39m=\u001b[39;49mname,\n\u001b[1;32m    <a href='file:///~/Documents/pythonProject/Introduction_ml_classification/env/lib/python3.9/site-packages/mlflow/tracking/_tracking_service/client.py?line=183'>184</a>\u001b[0m     artifact_location\u001b[39m=\u001b[39;49martifact_location,\n\u001b[1;32m    <a href='file:///~/Documents/pythonProject/Introduction_ml_classification/env/lib/python3.9/site-packages/mlflow/tracking/_tracking_service/client.py?line=184'>185</a>\u001b[0m     tags\u001b[39m=\u001b[39;49m[ExperimentTag(key, value) \u001b[39mfor\u001b[39;49;00m (key, value) \u001b[39min\u001b[39;49;00m tags\u001b[39m.\u001b[39;49mitems()] \u001b[39mif\u001b[39;49;00m tags \u001b[39melse\u001b[39;49;00m [],\n\u001b[1;32m    <a href='file:///~/Documents/pythonProject/Introduction_ml_classification/env/lib/python3.9/site-packages/mlflow/tracking/_tracking_service/client.py?line=185'>186</a>\u001b[0m )\n",
      "File \u001b[0;32m~/Documents/pythonProject/Introduction_ml_classification/env/lib/python3.9/site-packages/mlflow/store/tracking/file_store.py:321\u001b[0m, in \u001b[0;36mFileStore.create_experiment\u001b[0;34m(self, name, artifact_location, tags)\u001b[0m\n\u001b[1;32m    <a href='file:///~/Documents/pythonProject/Introduction_ml_classification/env/lib/python3.9/site-packages/mlflow/store/tracking/file_store.py?line=318'>319</a>\u001b[0m \u001b[39mdef\u001b[39;00m \u001b[39mcreate_experiment\u001b[39m(\u001b[39mself\u001b[39m, name, artifact_location\u001b[39m=\u001b[39m\u001b[39mNone\u001b[39;00m, tags\u001b[39m=\u001b[39m\u001b[39mNone\u001b[39;00m):\n\u001b[1;32m    <a href='file:///~/Documents/pythonProject/Introduction_ml_classification/env/lib/python3.9/site-packages/mlflow/store/tracking/file_store.py?line=319'>320</a>\u001b[0m     \u001b[39mself\u001b[39m\u001b[39m.\u001b[39m_check_root_dir()\n\u001b[0;32m--> <a href='file:///~/Documents/pythonProject/Introduction_ml_classification/env/lib/python3.9/site-packages/mlflow/store/tracking/file_store.py?line=320'>321</a>\u001b[0m     \u001b[39mself\u001b[39;49m\u001b[39m.\u001b[39;49m_validate_experiment_name(name)\n\u001b[1;32m    <a href='file:///~/Documents/pythonProject/Introduction_ml_classification/env/lib/python3.9/site-packages/mlflow/store/tracking/file_store.py?line=321'>322</a>\u001b[0m     \u001b[39m# Get all existing experiments and find the one with largest numerical ID.\u001b[39;00m\n\u001b[1;32m    <a href='file:///~/Documents/pythonProject/Introduction_ml_classification/env/lib/python3.9/site-packages/mlflow/store/tracking/file_store.py?line=322'>323</a>\u001b[0m     \u001b[39m# len(list_all(..)) would not work when experiments are deleted.\u001b[39;00m\n\u001b[1;32m    <a href='file:///~/Documents/pythonProject/Introduction_ml_classification/env/lib/python3.9/site-packages/mlflow/store/tracking/file_store.py?line=323'>324</a>\u001b[0m     experiments_ids \u001b[39m=\u001b[39m [\n\u001b[1;32m    <a href='file:///~/Documents/pythonProject/Introduction_ml_classification/env/lib/python3.9/site-packages/mlflow/store/tracking/file_store.py?line=324'>325</a>\u001b[0m         \u001b[39mint\u001b[39m(e\u001b[39m.\u001b[39mexperiment_id)\n\u001b[1;32m    <a href='file:///~/Documents/pythonProject/Introduction_ml_classification/env/lib/python3.9/site-packages/mlflow/store/tracking/file_store.py?line=325'>326</a>\u001b[0m         \u001b[39mfor\u001b[39;00m e \u001b[39min\u001b[39;00m \u001b[39mself\u001b[39m\u001b[39m.\u001b[39mlist_experiments(ViewType\u001b[39m.\u001b[39mALL)\n\u001b[1;32m    <a href='file:///~/Documents/pythonProject/Introduction_ml_classification/env/lib/python3.9/site-packages/mlflow/store/tracking/file_store.py?line=326'>327</a>\u001b[0m         \u001b[39mif\u001b[39;00m e\u001b[39m.\u001b[39mexperiment_id\u001b[39m.\u001b[39misdigit()\n\u001b[1;32m    <a href='file:///~/Documents/pythonProject/Introduction_ml_classification/env/lib/python3.9/site-packages/mlflow/store/tracking/file_store.py?line=327'>328</a>\u001b[0m     ]\n",
      "File \u001b[0;32m~/Documents/pythonProject/Introduction_ml_classification/env/lib/python3.9/site-packages/mlflow/store/tracking/file_store.py:314\u001b[0m, in \u001b[0;36mFileStore._validate_experiment_name\u001b[0;34m(self, name)\u001b[0m\n\u001b[1;32m    <a href='file:///~/Documents/pythonProject/Introduction_ml_classification/env/lib/python3.9/site-packages/mlflow/store/tracking/file_store.py?line=305'>306</a>\u001b[0m     \u001b[39mraise\u001b[39;00m MlflowException(\n\u001b[1;32m    <a href='file:///~/Documents/pythonProject/Introduction_ml_classification/env/lib/python3.9/site-packages/mlflow/store/tracking/file_store.py?line=306'>307</a>\u001b[0m         \u001b[39m\"\u001b[39m\u001b[39mExperiment \u001b[39m\u001b[39m'\u001b[39m\u001b[39m%s\u001b[39;00m\u001b[39m'\u001b[39m\u001b[39m already exists in deleted state. \u001b[39m\u001b[39m\"\u001b[39m\n\u001b[1;32m    <a href='file:///~/Documents/pythonProject/Introduction_ml_classification/env/lib/python3.9/site-packages/mlflow/store/tracking/file_store.py?line=307'>308</a>\u001b[0m         \u001b[39m\"\u001b[39m\u001b[39mYou can restore the experiment, or permanently delete the experiment \u001b[39m\u001b[39m\"\u001b[39m\n\u001b[0;32m   (...)\u001b[0m\n\u001b[1;32m    <a href='file:///~/Documents/pythonProject/Introduction_ml_classification/env/lib/python3.9/site-packages/mlflow/store/tracking/file_store.py?line=310'>311</a>\u001b[0m         databricks_pb2\u001b[39m.\u001b[39mRESOURCE_ALREADY_EXISTS,\n\u001b[1;32m    <a href='file:///~/Documents/pythonProject/Introduction_ml_classification/env/lib/python3.9/site-packages/mlflow/store/tracking/file_store.py?line=311'>312</a>\u001b[0m     )\n\u001b[1;32m    <a href='file:///~/Documents/pythonProject/Introduction_ml_classification/env/lib/python3.9/site-packages/mlflow/store/tracking/file_store.py?line=312'>313</a>\u001b[0m \u001b[39melse\u001b[39;00m:\n\u001b[0;32m--> <a href='file:///~/Documents/pythonProject/Introduction_ml_classification/env/lib/python3.9/site-packages/mlflow/store/tracking/file_store.py?line=313'>314</a>\u001b[0m     \u001b[39mraise\u001b[39;00m MlflowException(\n\u001b[1;32m    <a href='file:///~/Documents/pythonProject/Introduction_ml_classification/env/lib/python3.9/site-packages/mlflow/store/tracking/file_store.py?line=314'>315</a>\u001b[0m         \u001b[39m\"\u001b[39m\u001b[39mExperiment \u001b[39m\u001b[39m'\u001b[39m\u001b[39m%s\u001b[39;00m\u001b[39m'\u001b[39m\u001b[39m already exists.\u001b[39m\u001b[39m\"\u001b[39m \u001b[39m%\u001b[39m experiment\u001b[39m.\u001b[39mname,\n\u001b[1;32m    <a href='file:///~/Documents/pythonProject/Introduction_ml_classification/env/lib/python3.9/site-packages/mlflow/store/tracking/file_store.py?line=315'>316</a>\u001b[0m         databricks_pb2\u001b[39m.\u001b[39mRESOURCE_ALREADY_EXISTS,\n\u001b[1;32m    <a href='file:///~/Documents/pythonProject/Introduction_ml_classification/env/lib/python3.9/site-packages/mlflow/store/tracking/file_store.py?line=316'>317</a>\u001b[0m     )\n",
      "\u001b[0;31mMlflowException\u001b[0m: Experiment 'classification_tutorial' already exists."
     ]
    }
   ],
   "source": [
    "# On met en place Mlflow pour suivre les performances de nos modèles\n",
    "import mlflow\n",
    "import mlflow.sklearn\n",
    "from urllib.parse import urlparse\n",
    "\n",
    "# On crée une nouvelle expérimentation qui permet de rassembler tous les entrainements pour un meme projet.\n",
    "experiment_id = mlflow.create_experiment(\"classification_tutorial\")"
   ]
  },
  {
   "cell_type": "markdown",
   "metadata": {},
   "source": [
    "# Data Preparation"
   ]
  },
  {
   "cell_type": "code",
   "execution_count": 3,
   "metadata": {},
   "outputs": [],
   "source": [
    "# On importe la table nettoyée et augmentée des nouveaux attributs.\n",
    "df = pd.read_csv(\"data/intermediate/Telco_post_analysis.csv\")"
   ]
  },
  {
   "cell_type": "markdown",
   "metadata": {},
   "source": [
    "## Encodage\n",
    "\n",
    "La pluspart des modèles de machine learning n'acceptent pas les vairables catégorielles (string). Il faut donc passer par une première étape de les transformer en variable numérique. Cette opération est appellée encodage. Voici les trois encodages principaux dans la librairie scikit learn:\n",
    "- [sklearn.preprocessing.LabelEncoder](https://scikit-learn.org/stable/modules/generated/sklearn.preprocessing.LabelEncoder.html) : transforme la variable catégorielle cible en variable numérique. (chaque classe sera représentée par un chiffre)\n",
    "- [sklearn.preprocessing.OrdinalEncoder](https://scikit-learn.org/stable/modules/generated/sklearn.preprocessing.OrdinalEncoder.html#sklearn.preprocessing.OrdinalEncoder) Transforme une variable explicative catégorielle en variable numérique, chaque classe correspond à un chiffre. L'ordre des chiffres est supposé avoir un sens. On le privilègie donc pour les variables catégorielles dites \"ordinales\" du types: satifaction (low, medium, high)\n",
    "- [sklearn.preprocessing.OneHotEncoder](https://scikit-learn.org/stable/modules/generated/sklearn.preprocessing.OneHotEncoder.html) Transforme une variable explicative catégorielle en autant de variable binaire (0/1) que la variable catégorielle à de valeur (-1).\n",
    "    - exemple: la variable couleur_cheveux dont les valeurs sont (brun, blond, roux, chauve) sera transformer en trois variables binaires: couleur_cheveux_brun (0/1), couleur_cheveux_blond (0/1), couleur_cheveux_roux (0/1). Si une personne est chauve elle aura 0 aux trois variables précédentes, pas besoin d'ajouter donc cette varaible supplémentaire.\n",
    "\n",
    "OneHotEncoder est pratique à utiliser dans un pipe scikit learn mais il peut être moins pratique à utiliser avec un dataframe pandas. Pour hot encoder un dataframe on peut utiliser [pandas.get_dummies](https://pandas.pydata.org/docs/reference/api/pandas.get_dummies.html)"
   ]
  },
  {
   "cell_type": "markdown",
   "metadata": {},
   "source": [
    "### Encodage du Churn avec Label encoder"
   ]
  },
  {
   "cell_type": "code",
   "execution_count": 4,
   "metadata": {},
   "outputs": [
    {
     "data": {
      "text/plain": [
       "<bound method NDFrame.describe of 0        No\n",
       "1        No\n",
       "2       Yes\n",
       "3        No\n",
       "4       Yes\n",
       "       ... \n",
       "7027     No\n",
       "7028     No\n",
       "7029     No\n",
       "7030    Yes\n",
       "7031     No\n",
       "Name: Churn, Length: 7032, dtype: object>"
      ]
     },
     "execution_count": 4,
     "metadata": {},
     "output_type": "execute_result"
    }
   ],
   "source": [
    "df[\"Churn\"].describe"
   ]
  },
  {
   "cell_type": "code",
   "execution_count": 5,
   "metadata": {},
   "outputs": [],
   "source": [
    "from sklearn import preprocessing\n",
    "le = preprocessing.LabelEncoder()\n",
    "df[\"Churn\"]= le.fit_transform(df[\"Churn\"])"
   ]
  },
  {
   "cell_type": "code",
   "execution_count": 6,
   "metadata": {},
   "outputs": [
    {
     "data": {
      "text/plain": [
       "<bound method NDFrame.describe of 0       0\n",
       "1       0\n",
       "2       1\n",
       "3       0\n",
       "4       1\n",
       "       ..\n",
       "7027    0\n",
       "7028    0\n",
       "7029    0\n",
       "7030    1\n",
       "7031    0\n",
       "Name: Churn, Length: 7032, dtype: int64>"
      ]
     },
     "execution_count": 6,
     "metadata": {},
     "output_type": "execute_result"
    }
   ],
   "source": [
    "df[\"Churn\"].describe"
   ]
  },
  {
   "cell_type": "markdown",
   "metadata": {},
   "source": [
    "### Encodage des variables explicatives avec get_dummies"
   ]
  },
  {
   "cell_type": "code",
   "execution_count": 16,
   "metadata": {},
   "outputs": [
    {
     "data": {
      "text/plain": [
       "customerID                                object\n",
       "tenure                                     int64\n",
       "MonthlyCharges                           float64\n",
       "TotalCharges                             float64\n",
       "Churn                                      int64\n",
       "nbr_option_internet                        int64\n",
       "SeniorCitizen                              int64\n",
       "gender_Male                                uint8\n",
       "Partner_Yes                                uint8\n",
       "Dependents_Yes                             uint8\n",
       "PhoneService_Yes                           uint8\n",
       "MultipleLines_No phone service             uint8\n",
       "MultipleLines_Yes                          uint8\n",
       "InternetService_Fiber optic                uint8\n",
       "InternetService_No                         uint8\n",
       "OnlineSecurity_No internet service         uint8\n",
       "OnlineSecurity_Yes                         uint8\n",
       "OnlineBackup_No internet service           uint8\n",
       "OnlineBackup_Yes                           uint8\n",
       "DeviceProtection_No internet service       uint8\n",
       "DeviceProtection_Yes                       uint8\n",
       "TechSupport_No internet service            uint8\n",
       "TechSupport_Yes                            uint8\n",
       "StreamingTV_No internet service            uint8\n",
       "StreamingTV_Yes                            uint8\n",
       "StreamingMovies_No internet service        uint8\n",
       "StreamingMovies_Yes                        uint8\n",
       "Contract_One year                          uint8\n",
       "Contract_Two year                          uint8\n",
       "PaperlessBilling_Yes                       uint8\n",
       "PaymentMethod_Credit card (automatic)      uint8\n",
       "PaymentMethod_Electronic check             uint8\n",
       "PaymentMethod_Mailed check                 uint8\n",
       "Service_Only Phone                         uint8\n",
       "Service_Phone and Internet                 uint8\n",
       "dtype: object"
      ]
     },
     "execution_count": 16,
     "metadata": {},
     "output_type": "execute_result"
    }
   ],
   "source": [
    "df_encode.dtypes"
   ]
  },
  {
   "cell_type": "code",
   "execution_count": 15,
   "metadata": {},
   "outputs": [
    {
     "data": {
      "text/html": [
       "<div>\n",
       "<style scoped>\n",
       "    .dataframe tbody tr th:only-of-type {\n",
       "        vertical-align: middle;\n",
       "    }\n",
       "\n",
       "    .dataframe tbody tr th {\n",
       "        vertical-align: top;\n",
       "    }\n",
       "\n",
       "    .dataframe thead th {\n",
       "        text-align: right;\n",
       "    }\n",
       "</style>\n",
       "<table border=\"1\" class=\"dataframe\">\n",
       "  <thead>\n",
       "    <tr style=\"text-align: right;\">\n",
       "      <th></th>\n",
       "      <th>customerID</th>\n",
       "      <th>tenure</th>\n",
       "      <th>MonthlyCharges</th>\n",
       "      <th>TotalCharges</th>\n",
       "      <th>Churn</th>\n",
       "      <th>nbr_option_internet</th>\n",
       "      <th>SeniorCitizen</th>\n",
       "      <th>gender_Male</th>\n",
       "      <th>Partner_Yes</th>\n",
       "      <th>Dependents_Yes</th>\n",
       "      <th>...</th>\n",
       "      <th>StreamingMovies_No internet service</th>\n",
       "      <th>StreamingMovies_Yes</th>\n",
       "      <th>Contract_One year</th>\n",
       "      <th>Contract_Two year</th>\n",
       "      <th>PaperlessBilling_Yes</th>\n",
       "      <th>PaymentMethod_Credit card (automatic)</th>\n",
       "      <th>PaymentMethod_Electronic check</th>\n",
       "      <th>PaymentMethod_Mailed check</th>\n",
       "      <th>Service_Only Phone</th>\n",
       "      <th>Service_Phone and Internet</th>\n",
       "    </tr>\n",
       "  </thead>\n",
       "  <tbody>\n",
       "    <tr>\n",
       "      <th>0</th>\n",
       "      <td>7590-VHVEG</td>\n",
       "      <td>1</td>\n",
       "      <td>29.85</td>\n",
       "      <td>29.85</td>\n",
       "      <td>0</td>\n",
       "      <td>1</td>\n",
       "      <td>0</td>\n",
       "      <td>0</td>\n",
       "      <td>1</td>\n",
       "      <td>0</td>\n",
       "      <td>...</td>\n",
       "      <td>0</td>\n",
       "      <td>0</td>\n",
       "      <td>0</td>\n",
       "      <td>0</td>\n",
       "      <td>1</td>\n",
       "      <td>0</td>\n",
       "      <td>1</td>\n",
       "      <td>0</td>\n",
       "      <td>0</td>\n",
       "      <td>0</td>\n",
       "    </tr>\n",
       "    <tr>\n",
       "      <th>1</th>\n",
       "      <td>5575-GNVDE</td>\n",
       "      <td>34</td>\n",
       "      <td>56.95</td>\n",
       "      <td>1889.50</td>\n",
       "      <td>0</td>\n",
       "      <td>2</td>\n",
       "      <td>0</td>\n",
       "      <td>1</td>\n",
       "      <td>0</td>\n",
       "      <td>0</td>\n",
       "      <td>...</td>\n",
       "      <td>0</td>\n",
       "      <td>0</td>\n",
       "      <td>1</td>\n",
       "      <td>0</td>\n",
       "      <td>0</td>\n",
       "      <td>0</td>\n",
       "      <td>0</td>\n",
       "      <td>1</td>\n",
       "      <td>0</td>\n",
       "      <td>1</td>\n",
       "    </tr>\n",
       "    <tr>\n",
       "      <th>2</th>\n",
       "      <td>3668-QPYBK</td>\n",
       "      <td>2</td>\n",
       "      <td>53.85</td>\n",
       "      <td>108.15</td>\n",
       "      <td>1</td>\n",
       "      <td>2</td>\n",
       "      <td>0</td>\n",
       "      <td>1</td>\n",
       "      <td>0</td>\n",
       "      <td>0</td>\n",
       "      <td>...</td>\n",
       "      <td>0</td>\n",
       "      <td>0</td>\n",
       "      <td>0</td>\n",
       "      <td>0</td>\n",
       "      <td>1</td>\n",
       "      <td>0</td>\n",
       "      <td>0</td>\n",
       "      <td>1</td>\n",
       "      <td>0</td>\n",
       "      <td>1</td>\n",
       "    </tr>\n",
       "    <tr>\n",
       "      <th>3</th>\n",
       "      <td>7795-CFOCW</td>\n",
       "      <td>45</td>\n",
       "      <td>42.30</td>\n",
       "      <td>1840.75</td>\n",
       "      <td>0</td>\n",
       "      <td>3</td>\n",
       "      <td>0</td>\n",
       "      <td>1</td>\n",
       "      <td>0</td>\n",
       "      <td>0</td>\n",
       "      <td>...</td>\n",
       "      <td>0</td>\n",
       "      <td>0</td>\n",
       "      <td>1</td>\n",
       "      <td>0</td>\n",
       "      <td>0</td>\n",
       "      <td>0</td>\n",
       "      <td>0</td>\n",
       "      <td>0</td>\n",
       "      <td>0</td>\n",
       "      <td>0</td>\n",
       "    </tr>\n",
       "    <tr>\n",
       "      <th>4</th>\n",
       "      <td>9237-HQITU</td>\n",
       "      <td>2</td>\n",
       "      <td>70.70</td>\n",
       "      <td>151.65</td>\n",
       "      <td>1</td>\n",
       "      <td>0</td>\n",
       "      <td>0</td>\n",
       "      <td>0</td>\n",
       "      <td>0</td>\n",
       "      <td>0</td>\n",
       "      <td>...</td>\n",
       "      <td>0</td>\n",
       "      <td>0</td>\n",
       "      <td>0</td>\n",
       "      <td>0</td>\n",
       "      <td>1</td>\n",
       "      <td>0</td>\n",
       "      <td>1</td>\n",
       "      <td>0</td>\n",
       "      <td>0</td>\n",
       "      <td>1</td>\n",
       "    </tr>\n",
       "  </tbody>\n",
       "</table>\n",
       "<p>5 rows × 35 columns</p>\n",
       "</div>"
      ],
      "text/plain": [
       "   customerID  tenure  MonthlyCharges  TotalCharges  Churn  \\\n",
       "0  7590-VHVEG       1           29.85         29.85      0   \n",
       "1  5575-GNVDE      34           56.95       1889.50      0   \n",
       "2  3668-QPYBK       2           53.85        108.15      1   \n",
       "3  7795-CFOCW      45           42.30       1840.75      0   \n",
       "4  9237-HQITU       2           70.70        151.65      1   \n",
       "\n",
       "   nbr_option_internet  SeniorCitizen  gender_Male  Partner_Yes  \\\n",
       "0                    1              0            0            1   \n",
       "1                    2              0            1            0   \n",
       "2                    2              0            1            0   \n",
       "3                    3              0            1            0   \n",
       "4                    0              0            0            0   \n",
       "\n",
       "   Dependents_Yes  ...  StreamingMovies_No internet service  \\\n",
       "0               0  ...                                    0   \n",
       "1               0  ...                                    0   \n",
       "2               0  ...                                    0   \n",
       "3               0  ...                                    0   \n",
       "4               0  ...                                    0   \n",
       "\n",
       "   StreamingMovies_Yes  Contract_One year  Contract_Two year  \\\n",
       "0                    0                  0                  0   \n",
       "1                    0                  1                  0   \n",
       "2                    0                  0                  0   \n",
       "3                    0                  1                  0   \n",
       "4                    0                  0                  0   \n",
       "\n",
       "   PaperlessBilling_Yes  PaymentMethod_Credit card (automatic)  \\\n",
       "0                     1                                      0   \n",
       "1                     0                                      0   \n",
       "2                     1                                      0   \n",
       "3                     0                                      0   \n",
       "4                     1                                      0   \n",
       "\n",
       "   PaymentMethod_Electronic check  PaymentMethod_Mailed check  \\\n",
       "0                               1                           0   \n",
       "1                               0                           1   \n",
       "2                               0                           1   \n",
       "3                               0                           0   \n",
       "4                               1                           0   \n",
       "\n",
       "   Service_Only Phone  Service_Phone and Internet  \n",
       "0                   0                           0  \n",
       "1                   0                           1  \n",
       "2                   0                           1  \n",
       "3                   0                           0  \n",
       "4                   0                           1  \n",
       "\n",
       "[5 rows x 35 columns]"
      ]
     },
     "execution_count": 15,
     "metadata": {},
     "output_type": "execute_result"
    }
   ],
   "source": [
    "varlist =  ['gender','SeniorCitizen','Partner', 'Dependents','PhoneService', 'MultipleLines',\n",
    "            'InternetService','OnlineSecurity', 'OnlineBackup', 'DeviceProtection', 'TechSupport',\n",
    "            'StreamingTV', 'StreamingMovies', 'Contract','PaperlessBilling', 'PaymentMethod' ,'Service' \n",
    "            ]\n",
    "\n",
    "df_encode = pd.get_dummies(df[varlist], drop_first=True) #drop first permet de oneHotencoder plutot que de get_dummies\n",
    "df_encode = df.drop(varlist, axis=1).join(df_encode)\n",
    "df_encode.head()"
   ]
  },
  {
   "cell_type": "markdown",
   "metadata": {},
   "source": [
    "L'encodage est aussi le moment pour selectionner les variables qui nous interesse le plus.\n",
    "On a par exemple:\n",
    "- Internet : Oui, non\n",
    "- option internet: oui, non, pas internet\n",
    "\n",
    "les indicatrices (dummies) Internet_non et option_internet_pas_internet sont exactement les memes, on peut donc en concerver qu'une sur deux"
   ]
  },
  {
   "cell_type": "markdown",
   "metadata": {},
   "source": [
    "### example d'encodage ordinal avec apply map"
   ]
  },
  {
   "cell_type": "code",
   "execution_count": 5,
   "metadata": {},
   "outputs": [],
   "source": [
    "# Defining the map function\n",
    "def binary_map(x):\n",
    "    return x.map({'low': 0, \"medium\": 1,\"high\": 2})\n",
    "\n",
    "# Applying the function to the housing list\n",
    "#df.quality = df.quality.apply(binary_map)"
   ]
  },
  {
   "cell_type": "markdown",
   "metadata": {},
   "source": [
    "## Separation de la DB"
   ]
  },
  {
   "cell_type": "code",
   "execution_count": 20,
   "metadata": {},
   "outputs": [],
   "source": [
    "# On divise la base en train et test\n",
    "y = df_encode[\"Churn\"]\n",
    "X = df_encode[[\"SeniorCitizen\",\"nbr_option_internet\",\"tenure\", \"gender_Male\"]]\n",
    "\n",
    "X_train, X_test, y_train, y_test = train_test_split(X, y, test_size=0.2, random_state = 1)\n"
   ]
  },
  {
   "cell_type": "markdown",
   "metadata": {},
   "source": [
    " # Choix de la metrique d'évalulation, du modèle et la gestion du déséquilibre du jeu de données"
   ]
  },
  {
   "cell_type": "markdown",
   "metadata": {},
   "source": [
    "A propos des jeux de données non équilibrées: [this link](https://elitedatascience.com/imbalanced-classes)"
   ]
  },
  {
   "cell_type": "markdown",
   "metadata": {},
   "source": [
    "# Premiere regression avec MLflow et Scikitlearn"
   ]
  },
  {
   "cell_type": "code",
   "execution_count": 7,
   "metadata": {},
   "outputs": [],
   "source": [
    "def eval_metrics(actual, pred):\n",
    "    accuracy = accuracy_score(actual, pred)\n",
    "    f1 = f1_score(actual, pred)\n",
    "    recall = recall_score(actual, pred)\n",
    "    precision = precision_score(actual, pred)\n",
    "    auc = roc_auc_score(actual, pred)\n",
    "    return accuracy, f1, recall, precision, auc\n"
   ]
  },
  {
   "cell_type": "code",
   "execution_count": 9,
   "metadata": {},
   "outputs": [
    {
     "name": "stderr",
     "output_type": "stream",
     "text": [
      "2022/02/19 18:36:32 WARNING mlflow.utils.autologging_utils: MLflow autologging encountered a warning: \"/Users/charles/Documents/pythonProject/Introduction_ml_classification/env/lib/python3.9/site-packages/sklearn/utils/deprecation.py:87: FutureWarning: Function plot_confusion_matrix is deprecated; Function `plot_confusion_matrix` is deprecated in 1.0 and will be removed in 1.2. Use one of the class methods: ConfusionMatrixDisplay.from_predictions or ConfusionMatrixDisplay.from_estimator.\"\n",
      "2022/02/19 18:36:41 WARNING mlflow.utils.autologging_utils: MLflow autologging encountered a warning: \"/Users/charles/Documents/pythonProject/Introduction_ml_classification/env/lib/python3.9/site-packages/sklearn/utils/deprecation.py:87: FutureWarning: Function plot_roc_curve is deprecated; Function :func:`plot_roc_curve` is deprecated in 1.0 and will be removed in 1.2. Use one of the class methods: :meth:`sklearn.metric.RocCurveDisplay.from_predictions` or :meth:`sklearn.metric.RocCurveDisplay.from_estimator`.\"\n",
      "2022/02/19 18:36:42 WARNING mlflow.utils.autologging_utils: MLflow autologging encountered a warning: \"/Users/charles/Documents/pythonProject/Introduction_ml_classification/env/lib/python3.9/site-packages/sklearn/utils/deprecation.py:87: FutureWarning: Function plot_precision_recall_curve is deprecated; Function `plot_precision_recall_curve` is deprecated in 1.0 and will be removed in 1.2. Use one of the class methods: PrecisionRecallDisplay.from_predictions or PrecisionRecallDisplay.from_estimator.\"\n",
      "2022/02/19 18:36:43 WARNING mlflow.utils.autologging_utils: MLflow autologging encountered a warning: \"/Users/charles/Documents/pythonProject/Introduction_ml_classification/env/lib/python3.9/site-packages/mlflow/models/signature.py:129: UserWarning: Hint: Inferred schema contains integer column(s). Integer columns in Python cannot represent missing values. If your input data contains missing values at inference time, it will be encoded as floats and will cause a schema enforcement error. The best way to avoid this problem is to infer the model schema based on a realistic data sample (training dataset) that includes missing values. Alternatively, you can declare integer columns as doubles (float64) whenever these columns may have missing values. See `Handling Integers With Missing Values <https://www.mlflow.org/docs/latest/models.html#handling-integers-with-missing-values>`_ for more details.\"\n"
     ]
    },
    {
     "name": "stdout",
     "output_type": "stream",
     "text": [
      "  accuracy: 0.746268656716418\n",
      "  f1: 0.3376623376623376\n",
      "  recall: 0.2345360824742268\n",
      "  precision: 0.6026490066225165\n",
      "  auc: 0.5878274131703813\n"
     ]
    }
   ],
   "source": [
    "# On utilise la fonction autolog qui permet de tracker tous les paramètres des modèles\n",
    "  # mlflow.log_param(\"C\", C)\n",
    "    # mlflow.log_metric(\"accuracy\", accuracy)\n",
    "    # mlflow.log_metric(\"f1\", f1)\n",
    "    # mlflow.log_metric(\"recall\", recall)\n",
    "    # mlflow.log_metric(\"precision\", precision)\n",
    "    # mlflow.log_metric(\"auc\", auc)\n",
    "    # mlflow.log_artifact() \n",
    "    # mlflow.log_param(\"C\", parameter[\"C\"])    \n",
    "\n",
    "mlflow.sklearn.autolog()\n",
    "\n",
    "\n",
    "with mlflow.start_run(experiment_id = 1):\n",
    "\n",
    "    lg = LogisticRegression( )\n",
    "    model = lg.fit(X_train,y_train)\n",
    "    y_pred = model.predict(X_test)\n",
    "\n",
    "    accuracy, f1, recall, precision, auc = eval_metrics(y_test, y_pred)\n",
    "    print(\"  accuracy: %s\" % accuracy)\n",
    "    print(\"  f1: %s\" % f1)\n",
    "    print(\"  recall: %s\" % recall) \n",
    "    print(\"  precision: %s\" % precision) \n",
    "    print(\"  auc: %s\" % auc)            \n",
    "\n",
    "    tracking_url_type_store = urlparse(mlflow.get_tracking_uri()).scheme\n",
    "\n",
    "    if tracking_url_type_store != \"file\":\n",
    "        mlflow.sklearn.log_model(lg, \"model\", registered_model_name=\"simple_logisticreggression\")\n",
    "    else:\n",
    "        mlflow.sklearn.log_model(lg, \"model\") "
   ]
  },
  {
   "cell_type": "code",
   "execution_count": 9,
   "metadata": {},
   "outputs": [
    {
     "data": {
      "text/plain": [
       "'file:///Users/charles/Documents/pythonProject/Introduction_ml_classification/mlruns'"
      ]
     },
     "execution_count": 9,
     "metadata": {},
     "output_type": "execute_result"
    }
   ],
   "source": [
    "mlflow.get_tracking_uri()"
   ]
  },
  {
   "cell_type": "markdown",
   "metadata": {},
   "source": [
    "# Première regression avec Stat models"
   ]
  },
  {
   "cell_type": "code",
   "execution_count": 11,
   "metadata": {},
   "outputs": [],
   "source": [
    "import statsmodels.api as sm\n",
    "import mlflow.statsmodels"
   ]
  },
  {
   "cell_type": "code",
   "execution_count": 22,
   "metadata": {},
   "outputs": [
    {
     "name": "stderr",
     "output_type": "stream",
     "text": [
      "2022/02/23 16:29:13 WARNING mlflow.utils.autologging_utils: You are using an unsupported version of statsmodels. If you encounter errors during autologging, try upgrading / downgrading statsmodels to a supported version, or try upgrading MLflow.\n"
     ]
    },
    {
     "name": "stdout",
     "output_type": "stream",
     "text": [
      "Optimization terminated successfully.\n",
      "         Current function value: 0.487096\n",
      "         Iterations 6\n"
     ]
    }
   ],
   "source": [
    "mlflow.statsmodels.autolog()\n",
    "\n",
    "with mlflow.start_run(experiment_id = 1):\n",
    "    # Logistic regression model\n",
    "    log_reg = sm.Logit(y_train, X_train).fit()\n",
    "    yhat = log_reg.predict(X_test)\n",
    "    y_pred = list(map(round, yhat))\n",
    "\n",
    "\n",
    "    # accuracy, f1, recall, precision, auc = eval_metrics(y_test, y_pred)\n",
    "    # print(\"  accuracy: %s\" % accuracy)\n",
    "    # print(\"  f1: %s\" % f1)\n",
    "    # print(\"  recall: %s\" % recall) \n",
    "    # print(\"  precision: %s\" % precision) \n",
    "    # print(\"  auc: %s\" % auc) \n",
    "\n",
    "    # mlflow.log_metric(\"accuracy\", accuracy)\n",
    "    # mlflow.log_metric(\"f1\", f1)\n",
    "    # mlflow.log_metric(\"recall\", recall)\n",
    "    # mlflow.log_metric(\"precision\", precision)\n",
    "    # mlflow.log_metric(\"auc\", auc) \n",
    "    "
   ]
  },
  {
   "cell_type": "markdown",
   "metadata": {},
   "source": [
    "# Consignes"
   ]
  },
  {
   "cell_type": "markdown",
   "metadata": {},
   "source": [
    "Essayer plusieurs regressions logistiques en faisant varier les variables en input (pensez à tester une discrétisation des varibles continues) et les paramètres afin d'optimiser la métrique prise pour cible."
   ]
  }
 ],
 "metadata": {
  "interpreter": {
   "hash": "3f172fef0f1fa3f7a1f47870b05be890ee6e3fc6cd5f70df4603d8e2c0e93e3d"
  },
  "kernelspec": {
   "display_name": "Python 3.9.9 ('env': venv)",
   "language": "python",
   "name": "python3"
  },
  "language_info": {
   "codemirror_mode": {
    "name": "ipython",
    "version": 3
   },
   "file_extension": ".py",
   "mimetype": "text/x-python",
   "name": "python",
   "nbconvert_exporter": "python",
   "pygments_lexer": "ipython3",
   "version": "3.9.9"
  },
  "orig_nbformat": 4
 },
 "nbformat": 4,
 "nbformat_minor": 2
}
