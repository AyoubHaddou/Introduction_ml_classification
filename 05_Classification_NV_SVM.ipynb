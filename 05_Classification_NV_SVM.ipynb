{
 "cells": [
  {
   "cell_type": "markdown",
   "metadata": {},
   "source": [
    "# Consignes"
   ]
  },
  {
   "cell_type": "markdown",
   "metadata": {},
   "source": [
    "- Construisez deux modèles un SVM et un Naive bayesien en normalisant ou standardisant vos variables explicatives.\n",
    "- Utilisez gridsearch pour obtenir les meileurs paramètres et tracer les validations curves pour les différents paramètres\n",
    "- Vérifier que vos meilleurs modèles n'overfittent pas."
   ]
  }
 ],
 "metadata": {
  "language_info": {
   "name": "python"
  },
  "orig_nbformat": 4
 },
 "nbformat": 4,
 "nbformat_minor": 2
}
