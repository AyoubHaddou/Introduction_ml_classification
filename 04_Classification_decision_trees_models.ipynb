{
 "cells": [
  {
   "cell_type": "markdown",
   "metadata": {},
   "source": [
    "# Consignes"
   ]
  },
  {
   "cell_type": "markdown",
   "metadata": {},
   "source": [
    "- élaborer deux modèles: l'un  de random forest à l'aide du package scikit learn et l'autre un xgboost à l'aide du package éponyme.\n",
    "    - vous pouvez utiliser un gridsearch si vous savez ce que c'est mais ce n'est pas obligatoire.\n",
    "- comparer ensuite votre meilleur modèle pour les trois algortihmes étudiés (logistic regression, random forest, Xgboost) à l'aide des courbes ROC et lift\n",
    "- Tracer la learning curve pour chacuns de ces modèles. \n",
    "- étudier l'importance des features de ces trois modèles à l'aide de la librairie SHAP\n"
   ]
  }
 ],
 "metadata": {
  "interpreter": {
   "hash": "3f172fef0f1fa3f7a1f47870b05be890ee6e3fc6cd5f70df4603d8e2c0e93e3d"
  },
  "kernelspec": {
   "display_name": "Python 3.9.9 ('env': venv)",
   "language": "python",
   "name": "python3"
  },
  "language_info": {
   "name": "python",
   "version": "3.9.9"
  },
  "orig_nbformat": 4
 },
 "nbformat": 4,
 "nbformat_minor": 2
}
