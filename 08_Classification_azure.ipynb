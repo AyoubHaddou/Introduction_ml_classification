{
 "cells": [
  {
   "cell_type": "markdown",
   "metadata": {},
   "source": [
    "Consignes\n",
    "\n",
    "- Connectez vous à azure, créez un groupe de ressource azure et une ressource azure machine learning\n",
    "\n",
    "- Utilisez la ressource et lancez le studio machine learning.\n",
    "\n",
    "- Lancez ML automatisé, [apprenez](https://docs.microsoft.com/fr-fr/learn/modules/use-automated-machine-learning/) à vous en servir \n",
    "    - Choisissez un cluster de clacul à basse priorité pour que ça ne coute pas trop cher\n",
    "\n",
    "\n",
    "- Essayez le [concepteur Azure Machine learning](https://docs.microsoft.com/fr-fr/learn/modules/create-classification-model-azure-machine-learning-designer/) et appliquez le au Chrun\n",
    "\n",
    "- Pour allez plus loin, [créer des pipelines](https://docs.microsoft.com/fr-fr/learn/modules/create-pipelines-in-aml/) avec azure et python et appliquez le à l'étude du churn."
   ]
  }
 ],
 "metadata": {
  "language_info": {
   "name": "python"
  },
  "orig_nbformat": 4
 },
 "nbformat": 4,
 "nbformat_minor": 2
}
