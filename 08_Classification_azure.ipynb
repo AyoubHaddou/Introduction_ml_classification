{
 "cells": [
  {
   "cell_type": "markdown",
   "metadata": {},
   "source": [
    "Consignes\n",
    "\n",
    "- Connectez vous à azure, créez un groupe de ressource azure et une ressource azure machine learning\n",
    "\n",
    "- Utilisez la ressource et lancez le studio machine learning.\n",
    "\n",
    "- Lancez ML automatisé, [apprenez](https://docs.microsoft.com/fr-fr/learn/modules/use-automated-machine-learning/) à vous en servir et appliquez le au Chrun \n",
    "    - Choisissez un cluster de clacul à basse priorité pour que ça ne coute pas trop cher\n",
    "\n",
    "\n",
    "- Essayez le [concepteur Azure Machine learning](https://docs.microsoft.com/fr-fr/learn/modules/create-classification-model-azure-machine-learning-designer/) et appliquez le au Chrun\n",
    "\n",
    "- Pour allez plus loin, [créer des pipelines](https://docs.microsoft.com/fr-fr/learn/modules/create-pipelines-in-aml/) avec azure et python et appliquez le à l'étude du churn."
   ]
  }
 ],
 "metadata": {
  "interpreter": {
   "hash": "3f172fef0f1fa3f7a1f47870b05be890ee6e3fc6cd5f70df4603d8e2c0e93e3d"
  },
  "kernelspec": {
   "display_name": "Python 3.9.9 ('env': venv)",
   "language": "python",
   "name": "python3"
  },
  "language_info": {
   "name": "python",
   "version": "3.9.9"
  },
  "orig_nbformat": 4
 },
 "nbformat": 4,
 "nbformat_minor": 2
}
